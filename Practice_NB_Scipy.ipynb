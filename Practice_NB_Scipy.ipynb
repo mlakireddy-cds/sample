{
  "nbformat": 4,
  "nbformat_minor": 0,
  "metadata": {
    "colab": {
      "name": "Practice_NB_Scipy.ipynb",
      "provenance": [],
      "collapsed_sections": [],
      "include_colab_link": true
    },
    "kernelspec": {
      "display_name": "Python 3",
      "language": "python",
      "name": "python3"
    },
    "language_info": {
      "codemirror_mode": {
        "name": "ipython",
        "version": 3
      },
      "file_extension": ".py",
      "mimetype": "text/x-python",
      "name": "python",
      "nbconvert_exporter": "python",
      "pygments_lexer": "ipython3",
      "version": "3.8.5"
    }
  },
  "cells": [
    {
      "cell_type": "markdown",
      "metadata": {
        "id": "view-in-github",
        "colab_type": "text"
      },
      "source": [
        "<a href=\"https://colab.research.google.com/github/mlakireddy-cds/sample/blob/main/Practice_NB_Scipy.ipynb\" target=\"_parent\"><img src=\"https://colab.research.google.com/assets/colab-badge.svg\" alt=\"Open In Colab\"/></a>"
      ]
    },
    {
      "cell_type": "markdown",
      "metadata": {
        "id": "Vf7UdufgUVRm"
      },
      "source": [
        "# Advanced Certification Program in Computational Data Science\n",
        "## A program by IISc and TalentSprint\n",
        "### Learning Notebook: SciPy"
      ]
    },
    {
      "cell_type": "markdown",
      "metadata": {
        "id": "cs0B3ScgUVRv"
      },
      "source": [
        "## Learning Objectives"
      ]
    },
    {
      "cell_type": "markdown",
      "metadata": {
        "id": "Sq5piVQRUVRw"
      },
      "source": [
        "At the end of the experiment, you will be able to\n",
        "\n",
        "* know what is Scipy\n",
        "* implement some functions of Scipy"
      ]
    },
    {
      "cell_type": "markdown",
      "metadata": {
        "id": "nzhO957NCCP5"
      },
      "source": [
        "### Import required packages"
      ]
    },
    {
      "cell_type": "code",
      "metadata": {
        "id": "PoORSx3eCCP5"
      },
      "source": [
        "import numpy as np\n",
        "import matplotlib.pyplot as plt"
      ],
      "execution_count": null,
      "outputs": []
    },
    {
      "cell_type": "markdown",
      "metadata": {
        "id": "I0tnf3d3CCP1"
      },
      "source": [
        "### SciPy (Library of scientific algorithms for Python)"
      ]
    },
    {
      "cell_type": "markdown",
      "metadata": {
        "id": "jDCev6lPCCP5"
      },
      "source": [
        "The SciPy framework builds on top of the low-level NumPy framework for multidimensional arrays, and provides a large number of higher-level scientific algorithms. Some of the topics that SciPy covers are:\n",
        "\n",
        "* Integration ([scipy.integrate](http://docs.scipy.org/doc/scipy/reference/integrate.html))\n",
        "* Linear Algebra ([scipy.linalg](http://docs.scipy.org/doc/scipy/reference/linalg.html))\n",
        "* Optimization ([scipy.optimize](http://docs.scipy.org/doc/scipy/reference/optimize.html))\n",
        "* Statistics ([scipy.stats](http://docs.scipy.org/doc/scipy/reference/stats.html))\n",
        "\n",
        "Each of these submodules provides a number of functions and classes that can be used to solve problems in their respective topics.\n",
        "\n",
        "Here we will look at how to use some of these subpackages."
      ]
    },
    {
      "cell_type": "markdown",
      "metadata": {
        "id": "bvFRl6TpCCP9"
      },
      "source": [
        "### Integration"
      ]
    },
    {
      "cell_type": "markdown",
      "metadata": {
        "id": "K4FiSBt4CCP-"
      },
      "source": [
        "#### Numerical integration: quadrature"
      ]
    },
    {
      "cell_type": "markdown",
      "metadata": {
        "id": "egDor81sCCP-"
      },
      "source": [
        "Numerical evaluation of a function of the type\n",
        "\n",
        "$\\displaystyle \\int_a^b f(x) dx$\n",
        "\n",
        "is called *numerical quadrature*, or simply *quadrature*. SciPy provides a series of functions for different kind of quadrature, for example the `quad`, `dblquad` and `tplquad` for single, double and triple integrals, respectively.\n",
        "\n"
      ]
    },
    {
      "cell_type": "code",
      "metadata": {
        "id": "A_fn3_znCCP-"
      },
      "source": [
        "from scipy.integrate import quad, dblquad, tplquad"
      ],
      "execution_count": null,
      "outputs": []
    },
    {
      "cell_type": "markdown",
      "metadata": {
        "id": "5IMU2ykDCCP-"
      },
      "source": [
        "Let's compute the integral of the function $f(x) = 3x$ for the $x$ ranging from $0$ to $1$."
      ]
    },
    {
      "cell_type": "code",
      "metadata": {
        "id": "1nQnukn8CCP-"
      },
      "source": [
        "# define function for the integrand\n",
        "def f(x):\n",
        "    return 3 * x"
      ],
      "execution_count": null,
      "outputs": []
    },
    {
      "cell_type": "code",
      "metadata": {
        "colab": {
          "base_uri": "https://localhost:8080/"
        },
        "id": "BGZE2VxBCCP-",
        "outputId": "07bb3aec-5209-473d-bc61-cd4f52b374d8"
      },
      "source": [
        "# set upper and lower limit of x\n",
        "x_lower = 0 \n",
        "x_upper = 1 \n",
        "\n",
        "# perform integration\n",
        "val, abs_error = quad(f, x_lower, x_upper)\n",
        "\n",
        "print(\"integral value =\", val, \", absolute error =\", abs_error)"
      ],
      "execution_count": null,
      "outputs": [
        {
          "output_type": "stream",
          "text": [
            "integral value = 1.5 , absolute error = 1.6653345369377348e-14\n"
          ],
          "name": "stdout"
        }
      ]
    },
    {
      "cell_type": "markdown",
      "metadata": {
        "id": "SbqR7ahmCCP_"
      },
      "source": [
        "For simple functions we can use a lambda function (name-less function) instead of explicitly defining a function for the integrand:"
      ]
    },
    {
      "cell_type": "code",
      "metadata": {
        "colab": {
          "base_uri": "https://localhost:8080/"
        },
        "id": "076pAuU9CCQA",
        "outputId": "94c5cf8d-557f-429f-b519-1902f39166f5"
      },
      "source": [
        "val, abs_error = quad(lambda x: 3 * x, x_lower, x_upper)\n",
        "\n",
        "print(\"integral value =\", val, \", absolute error =\", abs_error)"
      ],
      "execution_count": null,
      "outputs": [
        {
          "output_type": "stream",
          "text": [
            "integral value = 1.5 , absolute error = 1.6653345369377348e-14\n"
          ],
          "name": "stdout"
        }
      ]
    },
    {
      "cell_type": "markdown",
      "metadata": {
        "id": "43y2FCiJCCQA"
      },
      "source": [
        "Higher-dimensional integration works in the same way.\n",
        "\n",
        "Let's compute the integral of the function $f(x, y) = x^2 + y^2$ over the $x$ ranging from $0$ to $10$ and $y$ ranging from $0$ to $10$."
      ]
    },
    {
      "cell_type": "code",
      "metadata": {
        "colab": {
          "base_uri": "https://localhost:8080/"
        },
        "id": "3Xm19dfuCCQA",
        "outputId": "97f7763b-b00e-4099-9a12-4b190a784123"
      },
      "source": [
        "# define function\n",
        "def func(x, y):\n",
        "    return (x**2 + y**2)\n",
        "\n",
        "# set limits for x, y\n",
        "x_lower = 0  \n",
        "x_upper = 10\n",
        "y_lower = 0\n",
        "y_upper = 10\n",
        "\n",
        "val, abserr = dblquad(func, x_lower, x_upper, lambda x: y_lower, lambda x: y_upper)\n",
        "\n",
        "print(\"integral value =\", val, \", absolute error =\", abserr)"
      ],
      "execution_count": null,
      "outputs": [
        {
          "output_type": "stream",
          "text": [
            "integral value = 6666.666666666668 , absolute error = 7.401486830834378e-11\n"
          ],
          "name": "stdout"
        }
      ]
    },
    {
      "cell_type": "markdown",
      "metadata": {
        "id": "V0hCfYMyCCQA"
      },
      "source": [
        "**Note** that we had to pass lambda functions for the limits for the $y$ integration, since these in general can be functions of $x$."
      ]
    },
    {
      "cell_type": "markdown",
      "metadata": {
        "id": "iVo3Z62uCnPx"
      },
      "source": [
        "Now, let's see one example using three variables.\n",
        "\n",
        "Compute the triple integral of the function $f(x,y,z) = x * y * z$, over $x$ ranging from $1$ to $2$, $y$ ranging from $2$ to $3$, $z$ ranging from $0$ to $1$."
      ]
    },
    {
      "cell_type": "code",
      "metadata": {
        "colab": {
          "base_uri": "https://localhost:8080/"
        },
        "id": "m_Xv0w1EDCXc",
        "outputId": "11db5307-c487-4da6-b111-cec6665754a3"
      },
      "source": [
        "# define function\n",
        "function = lambda z, y, x: (x * y * z)\n",
        "\n",
        "# set limits for x, y, z\n",
        "x_lower = 1  \n",
        "x_upper = 2\n",
        "y_lower = 2\n",
        "y_upper = 3\n",
        "z_lower = 0\n",
        "z_upper = 1\n",
        "\n",
        "val, abserr = tplquad(function, x_lower, x_upper, \n",
        "                                lambda x: y_lower, lambda x: y_upper, \n",
        "                                lambda x, y: z_lower, lambda x, y: z_upper)\n",
        "\n",
        "print(\"integral value =\", val, \", absolute error =\", abserr)"
      ],
      "execution_count": null,
      "outputs": [
        {
          "output_type": "stream",
          "text": [
            "integral value = 1.8750000000000002 , absolute error = 3.324644794257407e-14\n"
          ],
          "name": "stdout"
        }
      ]
    },
    {
      "cell_type": "markdown",
      "metadata": {
        "id": "J7puv0yvCCQG"
      },
      "source": [
        "### Linear algebra"
      ]
    },
    {
      "cell_type": "markdown",
      "metadata": {
        "id": "KFX-fn97CCQG"
      },
      "source": [
        "The linear algebra module contains a lot of matrix related functions, including \n",
        "\n",
        "* Linear equation solving \n",
        "* Eigenvalue and eigenvector solvers \n",
        "* Matrix operations\n",
        "\n",
        "To know more about other functionalities of linear algebra module, click [here](http://docs.scipy.org/doc/scipy/reference/linalg.html).\n",
        "\n",
        "Let's look at how to use some of these functions:\n"
      ]
    },
    {
      "cell_type": "markdown",
      "metadata": {
        "id": "s2NrVwdUCCQH"
      },
      "source": [
        "#### Linear equation systems"
      ]
    },
    {
      "cell_type": "markdown",
      "metadata": {
        "id": "EN74XJm1CCQH"
      },
      "source": [
        "Linear equation systems on the matrix form can be written as\n",
        "\n",
        "$$A x = b$$\n",
        "\n",
        "where $A$ is a matrix and $x,b$ are vectors.\n",
        "\n",
        "This system can be solved using `solve` function:"
      ]
    },
    {
      "cell_type": "code",
      "metadata": {
        "id": "aFIkgZ0kCCQH"
      },
      "source": [
        "# coefficient matrix\n",
        "A = np.array([[1,12,31], [14,25,36], [17,28,39]])\n",
        "\n",
        "# constant vector\n",
        "b = np.array([1, 2, 3])"
      ],
      "execution_count": null,
      "outputs": []
    },
    {
      "cell_type": "code",
      "metadata": {
        "colab": {
          "base_uri": "https://localhost:8080/"
        },
        "id": "4gw070yUCCQH",
        "outputId": "d9bd972e-4b4d-48e5-82ce-71e0913dfb58"
      },
      "source": [
        "from scipy.linalg import solve\n",
        "# solution vector\n",
        "x = solve(A, b)\n",
        "x"
      ],
      "execution_count": null,
      "outputs": [
        {
          "output_type": "execute_result",
          "data": {
            "text/plain": [
              "array([ 0.99242424, -1.07575758,  0.41666667])"
            ]
          },
          "metadata": {
            "tags": []
          },
          "execution_count": 50
        }
      ]
    },
    {
      "cell_type": "code",
      "metadata": {
        "colab": {
          "base_uri": "https://localhost:8080/"
        },
        "id": "5d0dFn3eCCQH",
        "outputId": "d1f70fb2-e6e8-457b-a3c1-23e79e636ce0"
      },
      "source": [
        "# check solution Ax - b = 0\n",
        "np.dot(A, x) - b"
      ],
      "execution_count": null,
      "outputs": [
        {
          "output_type": "execute_result",
          "data": {
            "text/plain": [
              "array([ 0.00000000e+00, -3.55271368e-15, -3.55271368e-15])"
            ]
          },
          "metadata": {
            "tags": []
          },
          "execution_count": 51
        }
      ]
    },
    {
      "cell_type": "markdown",
      "metadata": {
        "id": "YVDOmK5aCCQH"
      },
      "source": [
        "We can also do the same with\n",
        "\n",
        "$$A X = B$$\n",
        "\n",
        "where $A, B, X$ are matrices:"
      ]
    },
    {
      "cell_type": "code",
      "metadata": {
        "colab": {
          "base_uri": "https://localhost:8080/"
        },
        "id": "JzMzAau_CCQH",
        "outputId": "7d88f678-7569-4b45-bcd3-df370bda0b80"
      },
      "source": [
        "# define matices\n",
        "A = np.random.rand(3,3)\n",
        "B = np.random.rand(3,3)\n",
        "A, B"
      ],
      "execution_count": null,
      "outputs": [
        {
          "output_type": "execute_result",
          "data": {
            "text/plain": [
              "(array([[0.80053057, 0.33158692, 0.66703876],\n",
              "        [0.88879839, 0.21383211, 0.6014529 ],\n",
              "        [0.92376838, 0.66637976, 0.3273836 ]]),\n",
              " array([[0.71084352, 0.67312171, 0.82276556],\n",
              "        [0.11621199, 0.00593232, 0.82825833],\n",
              "        [0.07158404, 0.76810473, 0.96231689]]))"
            ]
          },
          "metadata": {
            "tags": []
          },
          "execution_count": 52
        }
      ]
    },
    {
      "cell_type": "code",
      "metadata": {
        "colab": {
          "base_uri": "https://localhost:8080/"
        },
        "id": "xLC9DgZ_CCQH",
        "outputId": "ef176c67-c3cb-4dab-a58b-9a1527707d79"
      },
      "source": [
        "X = solve(A, B)\n",
        "X"
      ],
      "execution_count": null,
      "outputs": [
        {
          "output_type": "execute_result",
          "data": {
            "text/plain": [
              "array([[-2.22650898, -2.05268369,  0.70430067],\n",
              "       [ 1.79629727,  3.03281734,  0.3665591 ],\n",
              "       [ 2.8448172 ,  1.96497606,  0.20599274]])"
            ]
          },
          "metadata": {
            "tags": []
          },
          "execution_count": 53
        }
      ]
    },
    {
      "cell_type": "code",
      "metadata": {
        "colab": {
          "base_uri": "https://localhost:8080/"
        },
        "id": "-KJmwjp-CCQH",
        "outputId": "0803484d-a4d9-4c02-a334-c3fa454eae57"
      },
      "source": [
        "# check\n",
        "from scipy.linalg import norm\n",
        "norm(np.dot(A, X) - B)"
      ],
      "execution_count": null,
      "outputs": [
        {
          "output_type": "execute_result",
          "data": {
            "text/plain": [
              "4.906538933386797e-16"
            ]
          },
          "metadata": {
            "tags": []
          },
          "execution_count": 54
        }
      ]
    },
    {
      "cell_type": "markdown",
      "metadata": {
        "id": "fxSnzXNSCCQI"
      },
      "source": [
        "#### Eigenvalues and eigenvectors"
      ]
    },
    {
      "cell_type": "markdown",
      "metadata": {
        "id": "rg03tz4BCCQI"
      },
      "source": [
        "The eigenvalue problem for a matrix $A$ is given as:\n",
        "\n",
        "$$\\displaystyle A v_n = \\lambda_n v_n$$\n",
        "\n",
        "where $v_n$ is the $n^{th}$ eigenvector and $\\lambda_n$ is the $n^{th}$ eigenvalue.\n",
        "\n",
        "To calculate eigenvalues of a matrix, use the `eigvals` and for calculating both eigenvalues and eigenvectors, use the function `eig`:"
      ]
    },
    {
      "cell_type": "code",
      "metadata": {
        "colab": {
          "base_uri": "https://localhost:8080/"
        },
        "id": "n8kDPQRzCCQI",
        "outputId": "e0535044-7d51-47f9-999c-01e785420372"
      },
      "source": [
        "from scipy.linalg import eigvals, eig\n",
        "\n",
        "# eigenvalues\n",
        "A = np.array([[1,2,3], [4,5,6], [7,8,9]])\n",
        "evals = eigvals(A)\n",
        "evals"
      ],
      "execution_count": null,
      "outputs": [
        {
          "output_type": "execute_result",
          "data": {
            "text/plain": [
              "array([ 1.61168440e+01+0.j, -1.11684397e+00+0.j, -9.75918483e-16+0.j])"
            ]
          },
          "metadata": {
            "tags": []
          },
          "execution_count": 55
        }
      ]
    },
    {
      "cell_type": "code",
      "metadata": {
        "colab": {
          "base_uri": "https://localhost:8080/"
        },
        "id": "r3YcnWG8CCQI",
        "outputId": "67221250-7f1b-4509-edb7-197ab7627633"
      },
      "source": [
        "# eigenvalues and eigenvectors\n",
        "evals, evecs = eig(A)\n",
        "print(\"Eigenvalues: \", evals)\n",
        "print(\"Eigenvectors: \\n\", evecs)"
      ],
      "execution_count": null,
      "outputs": [
        {
          "output_type": "stream",
          "text": [
            "Eigenvalues:  [ 1.61168440e+01+0.j -1.11684397e+00+0.j -9.75918483e-16+0.j]\n",
            "Eigenvectors: \n",
            " [[-0.23197069 -0.78583024  0.40824829]\n",
            " [-0.52532209 -0.08675134 -0.81649658]\n",
            " [-0.8186735   0.61232756  0.40824829]]\n"
          ],
          "name": "stdout"
        }
      ]
    },
    {
      "cell_type": "markdown",
      "metadata": {
        "id": "LBXtuf1eCCQI"
      },
      "source": [
        "The eigenvectors corresponding to the $n$th eigenvalue (stored in `evals[n]`) is the $n$th *column* in `evecs`, i.e., `evecs[:,n]`. To verify this, let's try mutiplying eigenvectors with the matrix and compare to the product of the eigenvector and the eigenvalue:"
      ]
    },
    {
      "cell_type": "code",
      "metadata": {
        "colab": {
          "base_uri": "https://localhost:8080/"
        },
        "id": "nFgVHNm0CCQI",
        "outputId": "c12bfac4-7f60-4f1e-f628-847275f2ae75"
      },
      "source": [
        "# check, |Av - λv| = 0\n",
        "n = 1\n",
        "norm(np.dot(A, evecs[:,n]) - evals[n] * evecs[:,n])"
      ],
      "execution_count": null,
      "outputs": [
        {
          "output_type": "execute_result",
          "data": {
            "text/plain": [
              "4.6287987683969976e-15"
            ]
          },
          "metadata": {
            "tags": []
          },
          "execution_count": 57
        }
      ]
    },
    {
      "cell_type": "markdown",
      "metadata": {
        "id": "ENQFz9vbCCQJ"
      },
      "source": [
        "#### Matrix operations"
      ]
    },
    {
      "cell_type": "code",
      "metadata": {
        "colab": {
          "base_uri": "https://localhost:8080/"
        },
        "id": "oDKGKkV7CCQJ",
        "outputId": "253a1dad-5d8c-4710-d100-af36bca21113"
      },
      "source": [
        "from scipy.linalg import inv, det\n",
        "\n",
        "# matrix inverse\n",
        "A = np.array([[1,12,31], [14,25,36], [17,28,39]])\n",
        "inv(A)"
      ],
      "execution_count": null,
      "outputs": [
        {
          "output_type": "execute_result",
          "data": {
            "text/plain": [
              "array([[ 0.125     , -1.51515152,  1.29924242],\n",
              "       [-0.25      ,  1.84848485, -1.50757576],\n",
              "       [ 0.125     , -0.66666667,  0.54166667]])"
            ]
          },
          "metadata": {
            "tags": []
          },
          "execution_count": 58
        }
      ]
    },
    {
      "cell_type": "code",
      "metadata": {
        "colab": {
          "base_uri": "https://localhost:8080/"
        },
        "id": "GM8M8QiOCCQJ",
        "outputId": "abdeaf02-01de-4b13-b606-3b3294a277fc"
      },
      "source": [
        "# determinant\n",
        "det(A)"
      ],
      "execution_count": null,
      "outputs": [
        {
          "output_type": "execute_result",
          "data": {
            "text/plain": [
              "-263.9999999999998"
            ]
          },
          "metadata": {
            "tags": []
          },
          "execution_count": 59
        }
      ]
    },
    {
      "cell_type": "markdown",
      "metadata": {
        "id": "7BHOdyfjCCQM"
      },
      "source": [
        "### Optimization"
      ]
    },
    {
      "cell_type": "markdown",
      "metadata": {
        "id": "ibSeZzXgCCQM"
      },
      "source": [
        "Optimization refers to finding minima or maxima of a function.\n",
        "\n",
        "SciPy `optimize` provides functions for minimizing (or maximizing) objective functions, possibly subject to constraints.\n",
        "\n",
        "To know more about scipy `optimize`, click [here](https://docs.scipy.org/doc/scipy/reference/optimize.html).\n",
        "\n",
        "Let's look at a few very simple cases such as finding minima and finding a solution of a function."
      ]
    },
    {
      "cell_type": "markdown",
      "metadata": {
        "id": "QcoRhp38CCQM"
      },
      "source": [
        "#### Finding a minima"
      ]
    },
    {
      "cell_type": "markdown",
      "metadata": {
        "id": "-DKkA9xcCCQM"
      },
      "source": [
        "Let's first look at how to find the minima of a simple function of a single variable, given as:\n",
        "\n",
        "$$f(x) =4x^3 + (x-2)^2 + x^4 - 20$$"
      ]
    },
    {
      "cell_type": "code",
      "metadata": {
        "id": "7GwmPxCHCCQN"
      },
      "source": [
        "# define function\n",
        "def f(x):\n",
        "    return 4*x**3 + (x-2)**2 + x**4 - 20"
      ],
      "execution_count": null,
      "outputs": []
    },
    {
      "cell_type": "code",
      "metadata": {
        "colab": {
          "base_uri": "https://localhost:8080/",
          "height": 265
        },
        "id": "f_DdTPXqCCQN",
        "outputId": "3fadc224-0aa8-4d94-d91d-976931bc00f9"
      },
      "source": [
        "# 100 points between -5 and 3\n",
        "x = np.linspace(-5, 3, 100)\n",
        "\n",
        "# visualize function\n",
        "plt.plot(x, f(x))\n",
        "plt.show()"
      ],
      "execution_count": null,
      "outputs": [
        {
          "output_type": "display_data",
          "data": {
            "image/png": "[encoded data removed]",
            "text/plain": [
              "<Figure size 432x288 with 1 Axes>"
            ]
          },
          "metadata": {
            "tags": [],
            "needs_background": "light"
          }
        }
      ]
    },
    {
      "cell_type": "markdown",
      "metadata": {
        "id": "MS7LxDU8CCQN"
      },
      "source": [
        "We can use the `fmin_bfgs` function to find the minima of a function. It requires an initial guess:"
      ]
    },
    {
      "cell_type": "code",
      "metadata": {
        "colab": {
          "base_uri": "https://localhost:8080/",
          "height": 366
        },
        "id": "QPH9h0oaCCQN",
        "outputId": "b55fd9b0-da94-42a3-e49a-21335ec29b63"
      },
      "source": [
        "from scipy import optimize\n",
        "\n",
        "# initial guess at x = -2\n",
        "x0 = -2\n",
        "\n",
        "x_min = optimize.fmin_bfgs(f, x0)\n",
        "print(\"Minima: \", x_min)\n",
        "\n",
        "# visualize minima\n",
        "plt.plot(x, f(x))\n",
        "plt.plot(x_min, f(x_min), c='r', marker='o')\n",
        "plt.show()"
      ],
      "execution_count": null,
      "outputs": [
        {
          "output_type": "stream",
          "text": [
            "Optimization terminated successfully.\n",
            "         Current function value: -23.506641\n",
            "         Iterations: 5\n",
            "         Function evaluations: 16\n",
            "         Gradient evaluations: 8\n",
            "Minima:  [-2.67298151]\n"
          ],
          "name": "stdout"
        },
        {
          "output_type": "display_data",
          "data": {
            "image/png": "[encoded data removed]",
            "text/plain": [
              "<Figure size 432x288 with 1 Axes>"
            ]
          },
          "metadata": {
            "tags": [],
            "needs_background": "light"
          }
        }
      ]
    },
    {
      "cell_type": "markdown",
      "metadata": {
        "id": "Vl0g5y6QnzPc"
      },
      "source": [
        "Now, let's change the initial guess to x = 0.5."
      ]
    },
    {
      "cell_type": "code",
      "metadata": {
        "colab": {
          "base_uri": "https://localhost:8080/",
          "height": 366
        },
        "id": "rsIqomwFCCQN",
        "outputId": "8fb38357-6c14-4bba-c034-769a78db79f2"
      },
      "source": [
        "# initial guess at x = 0.5\n",
        "x0 = 0.5\n",
        "min = optimize.fmin_bfgs(f, x0)\n",
        "print(\"Minima: \", min)\n",
        "\n",
        "# visualize minima\n",
        "plt.plot(x, f(x))\n",
        "plt.plot(min, f(min), c='r', marker='o')\n",
        "plt.show()"
      ],
      "execution_count": null,
      "outputs": [
        {
          "output_type": "stream",
          "text": [
            "Optimization terminated successfully.\n",
            "         Current function value: -17.195012\n",
            "         Iterations: 3\n",
            "         Function evaluations: 10\n",
            "         Gradient evaluations: 5\n",
            "Minima:  [0.46961744]\n"
          ],
          "name": "stdout"
        },
        {
          "output_type": "display_data",
          "data": {
            "image/png": "[encoded data removed]",
            "text/plain": [
              "<Figure size 432x288 with 1 Axes>"
            ]
          },
          "metadata": {
            "tags": [],
            "needs_background": "light"
          }
        }
      ]
    },
    {
      "cell_type": "markdown",
      "metadata": {
        "id": "iN3WczMiCCQN"
      },
      "source": [
        "From the above results, we can see that minima changes by changing the initial guess.\n",
        "\n",
        "We can also use the `brent` or `fminbound` functions. They have a bit different syntax and use different algorithms."
      ]
    },
    {
      "cell_type": "code",
      "metadata": {
        "colab": {
          "base_uri": "https://localhost:8080/",
          "height": 265
        },
        "id": "X6s6iDQdCCQN",
        "outputId": "07edee5d-2c76-4bf2-ba98-f3bd97a3f893"
      },
      "source": [
        "min = optimize.brent(f)\n",
        "# visualize minima\n",
        "plt.plot(x, f(x))\n",
        "plt.plot(min, f(min), c='r', marker='o')\n",
        "plt.show()"
      ],
      "execution_count": null,
      "outputs": [
        {
          "output_type": "display_data",
          "data": {
            "image/png": "[encoded data removed]",
            "text/plain": [
              "<Figure size 432x288 with 1 Axes>"
            ]
          },
          "metadata": {
            "tags": [],
            "needs_background": "light"
          }
        }
      ]
    },
    {
      "cell_type": "code",
      "metadata": {
        "colab": {
          "base_uri": "https://localhost:8080/",
          "height": 265
        },
        "id": "gTtzNuWDCCQN",
        "outputId": "c107a626-ac43-4897-dbc2-faa508243c6c"
      },
      "source": [
        "min = optimize.fminbound(f, -4, 2)\n",
        "# visualize minima\n",
        "plt.plot(x, f(x))\n",
        "plt.plot(min, f(min), c='r', marker='o')\n",
        "plt.show()"
      ],
      "execution_count": null,
      "outputs": [
        {
          "output_type": "display_data",
          "data": {
            "image/png": "[encoded data removed]",
            "text/plain": [
              "<Figure size 432x288 with 1 Axes>"
            ]
          },
          "metadata": {
            "tags": [],
            "needs_background": "light"
          }
        }
      ]
    },
    {
      "cell_type": "markdown",
      "metadata": {
        "id": "Sz-m1FSVCCQN"
      },
      "source": [
        "#### Finding a solution to a function"
      ]
    },
    {
      "cell_type": "markdown",
      "metadata": {
        "id": "dA-k1D7tCCQO"
      },
      "source": [
        "To find the root for a function of the form $f(x) = 0$ we can use the `fsolve` function. It requires an initial guess.\n",
        "\n",
        "Let's find the roots of the function $$f(x) = 4x^3 + (x-2)^2 + x^4 - 20$$"
      ]
    },
    {
      "cell_type": "code",
      "metadata": {
        "colab": {
          "base_uri": "https://localhost:8080/",
          "height": 265
        },
        "id": "KaYhgC_drs5N",
        "outputId": "57505896-cac1-4aea-e837-4ec09cbc05ef"
      },
      "source": [
        "# define function\n",
        "def f(x):\n",
        "    return 4*x**3 + (x-2)**2 + x**4 - 20\n",
        "\n",
        "# 100 points between -5 and 3\n",
        "x = np.linspace(-5, 3, 100)\n",
        "\n",
        "# visualize function\n",
        "plt.plot(x, f(x))\n",
        "plt.plot([-5,3], [0, 0], 'k')\n",
        "plt.show()"
      ],
      "execution_count": null,
      "outputs": [
        {
          "output_type": "display_data",
          "data": {
            "image/png": "[encoded data removed]",
            "text/plain": [
              "<Figure size 432x288 with 1 Axes>"
            ]
          },
          "metadata": {
            "tags": [],
            "needs_background": "light"
          }
        }
      ]
    },
    {
      "cell_type": "code",
      "metadata": {
        "colab": {
          "base_uri": "https://localhost:8080/",
          "height": 282
        },
        "id": "U8YF1UPys-B3",
        "outputId": "9b5c8deb-6527-4b95-a9fc-40e28251f360"
      },
      "source": [
        "# initial guess at x = 2\n",
        "x0 = 2\n",
        "\n",
        "root = optimize.fsolve(f, x0)\n",
        "print(\"Root: \", root)\n",
        "\n",
        "# visualize root\n",
        "plt.plot(x, f(x))\n",
        "plt.plot([-5,3], [0, 0], 'k')\n",
        "plt.plot(root, f(root), c='r', marker='o')\n",
        "plt.show()"
      ],
      "execution_count": null,
      "outputs": [
        {
          "output_type": "stream",
          "text": [
            "Root:  [1.52934819]\n"
          ],
          "name": "stdout"
        },
        {
          "output_type": "display_data",
          "data": {
            "image/png": "[encoded data removed]",
            "text/plain": [
              "<Figure size 432x288 with 1 Axes>"
            ]
          },
          "metadata": {
            "tags": [],
            "needs_background": "light"
          }
        }
      ]
    },
    {
      "cell_type": "code",
      "metadata": {
        "colab": {
          "base_uri": "https://localhost:8080/",
          "height": 282
        },
        "id": "FDDFgHT3vghD",
        "outputId": "07536960-c8a4-436b-fa65-80ab379e3f70"
      },
      "source": [
        "# initial guess at x = -4\n",
        "x0 = -4\n",
        "\n",
        "root = optimize.fsolve(f, x0)\n",
        "print(\"Root: \", root)\n",
        "\n",
        "# visualize root\n",
        "plt.plot(x, f(x))\n",
        "plt.plot([-5,3], [0, 0], 'k')\n",
        "plt.plot(root, f(root), c='r', marker='o')\n",
        "plt.show()"
      ],
      "execution_count": null,
      "outputs": [
        {
          "output_type": "stream",
          "text": [
            "Root:  [-3.75225171]\n"
          ],
          "name": "stdout"
        },
        {
          "output_type": "display_data",
          "data": {
            "image/png": "[encoded data removed]",
            "text/plain": [
              "<Figure size 432x288 with 1 Axes>"
            ]
          },
          "metadata": {
            "tags": [],
            "needs_background": "light"
          }
        }
      ]
    },
    {
      "cell_type": "markdown",
      "metadata": {
        "id": "rV4zdd4CCCQP"
      },
      "source": [
        "### Statistics"
      ]
    },
    {
      "cell_type": "markdown",
      "metadata": {
        "id": "i2iqicMCCCQP"
      },
      "source": [
        "The `scipy.stats` module contains a large number of statistical distributions, statistical functions and tests. \n",
        "\n",
        "To know more about `scipy.stats`, click [here](http://docs.scipy.org/doc/scipy/reference/stats.html).\n",
        "\n",
        "Let's create a discrete random variable with Poisson distribution having mean value 3.5 and plot its probability mass function and cummulative distribution function:"
      ]
    },
    {
      "cell_type": "code",
      "metadata": {
        "id": "LpDdD92zCCQP"
      },
      "source": [
        "from scipy import stats\n",
        "# create discrete random variable with poission distribution\n",
        "mean = 3.5\n",
        "X = stats.poisson(mean)"
      ],
      "execution_count": null,
      "outputs": []
    },
    {
      "cell_type": "code",
      "metadata": {
        "colab": {
          "base_uri": "https://localhost:8080/",
          "height": 265
        },
        "id": "Yt-CdqsSCCQP",
        "outputId": "03dd579d-7ff1-4fa4-9c42-81a583825381"
      },
      "source": [
        "n = np.arange(0, 15)\n",
        "\n",
        "fig, axes = plt.subplots(3,1, sharex=True)\n",
        "\n",
        "# plot the probability mass function (PMF)\n",
        "axes[0].step(n, X.pmf(n))\n",
        "\n",
        "# plot the cummulative distribution function (CDF)\n",
        "axes[1].step(n, X.cdf(n))\n",
        "\n",
        "# generate random numbers with poisson distribution\n",
        "r = X.rvs(size=1000)\n",
        "# plot histogram of 1000 random realizations of the stochastic variable X\n",
        "axes[2].hist(r);"
      ],
      "execution_count": null,
      "outputs": [
        {
          "output_type": "display_data",
          "data": {
            "image/png": "[encoded data removed]",
            "text/plain": [
              "<Figure size 432x288 with 3 Axes>"
            ]
          },
          "metadata": {
            "tags": [],
            "needs_background": "light"
          }
        }
      ]
    },
    {
      "cell_type": "markdown",
      "metadata": {
        "id": "lbG_B77f2tOY"
      },
      "source": [
        "Now, let's create a continuous random variable with Normal distribution having mean value 0.0 and plot its probability density function and cummulative distribution function:"
      ]
    },
    {
      "cell_type": "code",
      "metadata": {
        "id": "Y38FeUaSCCQP"
      },
      "source": [
        "# create a (continous) random variable with normal distribution\n",
        "mean = 0.0\n",
        "Y = stats.norm(loc = mean)"
      ],
      "execution_count": null,
      "outputs": []
    },
    {
      "cell_type": "code",
      "metadata": {
        "colab": {
          "base_uri": "https://localhost:8080/",
          "height": 267
        },
        "id": "6EpqSVCWCCQP",
        "outputId": "d3dbcf3b-43e9-4d60-996c-ac4c95b47a2a"
      },
      "source": [
        "x = np.linspace(-5,5,100)\n",
        "\n",
        "fig, axes = plt.subplots(3,1, sharex=True)\n",
        "\n",
        "# plot the probability density function (PDF)\n",
        "axes[0].plot(x, Y.pdf(x))\n",
        "\n",
        "# plot the cummulative distribution function (CDF)\n",
        "axes[1].plot(x, Y.cdf(x));\n",
        "\n",
        "# generate random numbers with normal distribution\n",
        "r_ = Y.rvs(size=1000)\n",
        "# plot histogram of 1000 random realizations of the stochastic variable Y\n",
        "axes[2].hist(r_, bins=50);"
      ],
      "execution_count": null,
      "outputs": [
        {
          "output_type": "display_data",
          "data": {
            "image/png": "[encoded data removed]",
            "text/plain": [
              "<Figure size 432x288 with 3 Axes>"
            ]
          },
          "metadata": {
            "tags": [],
            "needs_background": "light"
          }
        }
      ]
    },
    {
      "cell_type": "markdown",
      "metadata": {
        "id": "F7Z6dvf_CCQP"
      },
      "source": [
        "Statistics:\n",
        "\n",
        "Compute mean, standard deviation, and variance for both distributions."
      ]
    },
    {
      "cell_type": "code",
      "metadata": {
        "colab": {
          "base_uri": "https://localhost:8080/"
        },
        "id": "aomWGnTjCCQP",
        "outputId": "1f47dbad-2e4a-4251-fd88-d16456358ff5"
      },
      "source": [
        "# poission distribution\n",
        "X.mean(), X.std(), X.var()"
      ],
      "execution_count": null,
      "outputs": [
        {
          "output_type": "execute_result",
          "data": {
            "text/plain": [
              "(3.5, 1.8708286933869707, 3.5)"
            ]
          },
          "metadata": {
            "tags": []
          },
          "execution_count": 73
        }
      ]
    },
    {
      "cell_type": "code",
      "metadata": {
        "colab": {
          "base_uri": "https://localhost:8080/"
        },
        "id": "mcGEyU5pCCQQ",
        "outputId": "e5a8de70-67fc-4c17-ca38-eb81d9d675c5"
      },
      "source": [
        "# normal distribution\n",
        "Y.mean(), Y.std(), Y.var()"
      ],
      "execution_count": null,
      "outputs": [
        {
          "output_type": "execute_result",
          "data": {
            "text/plain": [
              "(0.0, 1.0, 1.0)"
            ]
          },
          "metadata": {
            "tags": []
          },
          "execution_count": 74
        }
      ]
    },
    {
      "cell_type": "markdown",
      "metadata": {
        "id": "pY1p1jJbCCQQ"
      },
      "source": [
        "### Statistical tests"
      ]
    },
    {
      "cell_type": "markdown",
      "metadata": {
        "id": "9BoC0LzWCCQQ"
      },
      "source": [
        "Test if two sets of (independent) random data comes from the same distribution:"
      ]
    },
    {
      "cell_type": "code",
      "metadata": {
        "colab": {
          "base_uri": "https://localhost:8080/"
        },
        "id": "O-bVi4x9CCQQ",
        "outputId": "4d9b5041-77c7-407a-fc27-10cdd775a6cb"
      },
      "source": [
        "# two random data from same distribution\n",
        "data1 = X.rvs(size=1000)\n",
        "data2 = X.rvs(size=1000)\n",
        "\n",
        "t_statistic, p_value = stats.ttest_ind(data1, data2)\n",
        "\n",
        "print(\"t-statistic =\", t_statistic)\n",
        "print(\"p-value =\", p_value)"
      ],
      "execution_count": null,
      "outputs": [
        {
          "output_type": "stream",
          "text": [
            "t-statistic = -0.54170151943872\n",
            "p-value = 0.5880845427669583\n"
          ],
          "name": "stdout"
        }
      ]
    },
    {
      "cell_type": "markdown",
      "metadata": {
        "id": "Bx735ZAMCCQQ"
      },
      "source": [
        "Since the p value is very large we cannot reject the hypothesis that the two sets of random data have *different* means."
      ]
    },
    {
      "cell_type": "markdown",
      "metadata": {
        "id": "0AxqIAD1CCQQ"
      },
      "source": [
        "To test if the mean of a single sample of data has mean 0.1 (the true mean is 0.0):"
      ]
    },
    {
      "cell_type": "code",
      "metadata": {
        "colab": {
          "base_uri": "https://localhost:8080/"
        },
        "id": "kkKHwaHqCCQQ",
        "outputId": "2356a036-7eeb-422c-cf05-dd136331546a"
      },
      "source": [
        "# data with mean = 0.0\n",
        "data3 = Y.rvs(size=1000)\n",
        "\n",
        "stats.ttest_1samp(data3, 0.1)"
      ],
      "execution_count": null,
      "outputs": [
        {
          "output_type": "execute_result",
          "data": {
            "text/plain": [
              "Ttest_1sampResult(statistic=-2.91576435224258, pvalue=0.00362747132328511)"
            ]
          },
          "metadata": {
            "tags": []
          },
          "execution_count": 88
        }
      ]
    },
    {
      "cell_type": "markdown",
      "metadata": {
        "id": "bCL5OW5JCCQQ"
      },
      "source": [
        "Low p-value means that we can reject the hypothesis that the mean of Y is 0.1."
      ]
    },
    {
      "cell_type": "code",
      "metadata": {
        "colab": {
          "base_uri": "https://localhost:8080/"
        },
        "id": "vGhfuSf5CCQQ",
        "outputId": "d8b17ff6-0a4b-4251-de70-2a64ddbdc873"
      },
      "source": [
        "true_mean = Y.mean()\n",
        "true_mean"
      ],
      "execution_count": null,
      "outputs": [
        {
          "output_type": "execute_result",
          "data": {
            "text/plain": [
              "0.0"
            ]
          },
          "metadata": {
            "tags": []
          },
          "execution_count": 77
        }
      ]
    },
    {
      "cell_type": "markdown",
      "metadata": {
        "id": "9HAyz-9HkyGW"
      },
      "source": [
        "Test if the mean of a single sample of data has mean 0.0:"
      ]
    },
    {
      "cell_type": "code",
      "metadata": {
        "colab": {
          "base_uri": "https://localhost:8080/"
        },
        "id": "tkL9Yh37CCQQ",
        "outputId": "219cc471-e636-467a-d476-cda7de45b9ac"
      },
      "source": [
        "stats.ttest_1samp(Y.rvs(size=1000), true_mean)"
      ],
      "execution_count": null,
      "outputs": [
        {
          "output_type": "execute_result",
          "data": {
            "text/plain": [
              "Ttest_1sampResult(statistic=0.49190736852127304, pvalue=0.6228928976062553)"
            ]
          },
          "metadata": {
            "tags": []
          },
          "execution_count": 89
        }
      ]
    },
    {
      "cell_type": "markdown",
      "metadata": {
        "id": "v3kOcwqOlBBo"
      },
      "source": [
        "High p-value means that we can't reject the hypothesis that the mean of Y is 0.0."
      ]
    },
    {
      "cell_type": "markdown",
      "metadata": {
        "id": "VxfJCrrSCCQR"
      },
      "source": [
        "### Further reading"
      ]
    },
    {
      "cell_type": "markdown",
      "metadata": {
        "id": "sBfkndRXCCQR"
      },
      "source": [
        "* http://www.scipy.org - The official web page for the SciPy project.\n",
        "* http://docs.scipy.org/doc/scipy/reference/tutorial/index.html - A tutorial on how to get started using SciPy. "
      ]
    },
    {
      "cell_type": "markdown",
      "metadata": {
        "id": "INZBLLHXCCP4"
      },
      "source": [
        "Source reference: https://raw.githubusercontent.com/jrjohansson/scientific-python-lectures/master/Scientific-Computing-with-Python.pdf"
      ]
    }
  ]
}