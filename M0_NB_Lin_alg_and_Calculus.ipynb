{
  "nbformat": 4,
  "nbformat_minor": 0,
  "metadata": {
    "colab": {
      "name": "M0_NB_Lin_alg_and_Calculus.ipynb",
      "provenance": [],
      "collapsed_sections": [],
      "include_colab_link": true
    },
    "kernelspec": {
      "display_name": "Python 3",
      "language": "python",
      "name": "python3"
    },
    "language_info": {
      "codemirror_mode": {
        "name": "ipython",
        "version": 3
      },
      "file_extension": ".py",
      "mimetype": "text/x-python",
      "name": "python",
      "nbconvert_exporter": "python",
      "pygments_lexer": "ipython3",
      "version": "3.8.5"
    }
  },
  "cells": [
    {
      "cell_type": "markdown",
      "metadata": {
        "id": "view-in-github",
        "colab_type": "text"
      },
      "source": [
        "<a href=\"https://colab.research.google.com/github/mlakireddy-cds/sample/blob/main/M0_NB_Lin_alg_and_Calculus.ipynb\" target=\"_parent\"><img src=\"https://colab.research.google.com/assets/colab-badge.svg\" alt=\"Open In Colab\"/></a>"
      ]
    },
    {
      "cell_type": "markdown",
      "metadata": {
        "id": "xOJ9npnFEi-d"
      },
      "source": [
        "# Advanced Certification Program in Computational Data Science\n",
        "## A program by IISc and TalentSprint\n",
        "### Assignment Notebook 1: Introduction to Linear algebra and Calculus\n",
        "#### (Ungraded)"
      ]
    },
    {
      "cell_type": "markdown",
      "metadata": {
        "id": "CBkjMtSgFBuv"
      },
      "source": [
        "## Learning Objectives"
      ]
    },
    {
      "cell_type": "markdown",
      "metadata": {
        "id": "FpfeKNyLFEbX"
      },
      "source": [
        "At the end of the experiment, you will be able to :\n",
        "\n",
        "* use computational techniques and algebraic skills essential for the study of systems of linear equations, matrix algebra, vector spaces, eigenvalues and eigenvectors, orthogonality and diagonalization.\n",
        "* use Python libraries to perform linear algebra and calculus related operations."
      ]
    },
    {
      "cell_type": "markdown",
      "metadata": {
        "id": "Bf3YNZOfJJlZ"
      },
      "source": [
        "#### Exercise 1: Import NumPy and matplotlib"
      ]
    },
    {
      "cell_type": "code",
      "metadata": {
        "id": "DC26G0WgJJla"
      },
      "source": [
        "import numpy as np\n",
        "import matplotlib.pyplot as plt"
      ],
      "execution_count": null,
      "outputs": []
    },
    {
      "cell_type": "markdown",
      "metadata": {
        "id": "vsSuj6AtJJlb"
      },
      "source": [
        "#### Exercise 2: Create below Matrix using Numpy Package\n",
        "\n",
        "\\begin{bmatrix}\n",
        "4 & 5 & 6 & \\\\ \n",
        "55 & 22 & 1  & \\\\ \n",
        " 6 & 21 & 44 & \\\\ \n",
        " 78 & 23 & 16 & \n",
        "\\end{bmatrix}\n"
      ]
    },
    {
      "cell_type": "code",
      "metadata": {
        "id": "_u6fe4ngJJlc"
      },
      "source": [
        "A = np.matrix([[4, 5, 6], [55, 22, 1], [6, 21, 44], [78, 23, 16]])"
      ],
      "execution_count": null,
      "outputs": []
    },
    {
      "cell_type": "markdown",
      "metadata": {
        "id": "Q46W6-RGJJld"
      },
      "source": [
        "#### Exercise 3: Find the number of rows and columns of above created matrix."
      ]
    },
    {
      "cell_type": "code",
      "metadata": {
        "id": "SyhXCcn2JJle"
      },
      "source": [
        "A.shape"
      ],
      "execution_count": null,
      "outputs": []
    },
    {
      "cell_type": "markdown",
      "metadata": {
        "id": "OmsxwHaRJJle"
      },
      "source": [
        "#### Exercise 4: Given two Matrices \n",
        "\n",
        " \n",
        "\\begin{bmatrix}\n",
        "0 & 2\\\\ \n",
        "1 & 4\n",
        "\\end{bmatrix}\n",
        "\n",
        "\\begin{bmatrix}\n",
        "1 & 3\\\\ \n",
        "2 & 1\n",
        "\\end{bmatrix}\n",
        "\n",
        "\n",
        "Perform the following operations\n",
        "\n",
        "- Addition\n",
        "- Multiplication"
      ]
    },
    {
      "cell_type": "code",
      "metadata": {
        "id": "8wjLQbBEJJlf"
      },
      "source": [
        "A = np.array([[0,2],\n",
        "              [1,4]])\n",
        "B = np.array([[1,3],\n",
        "              [2,1]])"
      ],
      "execution_count": null,
      "outputs": []
    },
    {
      "cell_type": "code",
      "metadata": {
        "id": "q6n0Pka9JJlg"
      },
      "source": [
        "A + B"
      ],
      "execution_count": null,
      "outputs": []
    },
    {
      "cell_type": "code",
      "metadata": {
        "id": "KYqafvl1JJlg"
      },
      "source": [
        "A @ B"
      ],
      "execution_count": null,
      "outputs": []
    },
    {
      "cell_type": "markdown",
      "metadata": {
        "id": "yUQwAXrqJJlh"
      },
      "source": [
        "#### Exercise 5: Given a Matrix\n",
        "\n",
        "\\begin{bmatrix}\n",
        "1 & 3\\\\ \n",
        "2 & 1\n",
        "\\end{bmatrix}\n",
        "\n",
        "Find the Transpose of it."
      ]
    },
    {
      "cell_type": "code",
      "metadata": {
        "id": "z9mUpcNpJJli"
      },
      "source": [
        "B.T"
      ],
      "execution_count": null,
      "outputs": []
    },
    {
      "cell_type": "markdown",
      "metadata": {
        "id": "juHsq_e0JJli"
      },
      "source": [
        "#### Exercise 6: Given a matrix\n",
        "\n",
        "\\begin{bmatrix}\n",
        "1 & 2 & 1\\\\ \n",
        "4 & 4 & 5\\\\ \n",
        "6 & 7 & 7\n",
        "\\end{bmatrix}\n",
        "\n",
        "Find the inverse of it."
      ]
    },
    {
      "cell_type": "code",
      "metadata": {
        "id": "GBJ8sGUGJJlj"
      },
      "source": [
        "A = np.array([[1, 2, 1],\n",
        "              [4, 4, 5],\n",
        "              [6, 7, 7]])\n",
        "np.linalg.inv(A)"
      ],
      "execution_count": null,
      "outputs": []
    },
    {
      "cell_type": "markdown",
      "metadata": {
        "id": "gTUE9KzVJJlk"
      },
      "source": [
        "#### Exercise 7: Given a matrix\n",
        "\n",
        "\\begin{bmatrix}\n",
        "1 & 2 & 1\\\\ \n",
        "4 & 4 & 5\\\\ \n",
        "6 & 7 & 7 \\\\\n",
        "3 & 2 & 4\n",
        "\\end{bmatrix}\n",
        "\n",
        "Display the first column elements.\n",
        "\n",
        "**Note:** Indexing start from '0'"
      ]
    },
    {
      "cell_type": "code",
      "metadata": {
        "id": "UTUFlTazJJlk"
      },
      "source": [
        "A = np.array([[1, 2, 1],\n",
        "              [4, 4, 5],\n",
        "              [6, 7, 7],\n",
        "              [3, 2, 4]])\n",
        "\n",
        "A[:,0]"
      ],
      "execution_count": null,
      "outputs": []
    },
    {
      "cell_type": "markdown",
      "metadata": {
        "id": "mqOrsOubJJll"
      },
      "source": [
        "#### Exercise 8: Given a matrix\n",
        "\n",
        "\\begin{bmatrix}\n",
        "1 & 2 & 1\\\\ \n",
        "4 & 4 & 5\\\\ \n",
        "6 & 7 & 7 \\\\\n",
        "3 & 2 & 4\n",
        "\\end{bmatrix}\n",
        "\n",
        "Display the first row elements."
      ]
    },
    {
      "cell_type": "code",
      "metadata": {
        "id": "HEbc2YPcJJll"
      },
      "source": [
        "A[0]"
      ],
      "execution_count": null,
      "outputs": []
    },
    {
      "cell_type": "markdown",
      "metadata": {
        "id": "_64IEezrJJlr"
      },
      "source": [
        "#### Exercise 9:  Given a matrix\n",
        "\n",
        "\\begin{bmatrix}\n",
        "1 & 2 & 1\\\\ \n",
        "4 & 4 & 5\\\\ \n",
        "6 & 7 & 7 \\\\\n",
        "3 & 2 & 4\n",
        "\\end{bmatrix}\n",
        "\n",
        "Find the element in the second row and third column."
      ]
    },
    {
      "cell_type": "code",
      "metadata": {
        "id": "eLgYwGm8JJlt"
      },
      "source": [
        "A[1,2]"
      ],
      "execution_count": null,
      "outputs": []
    },
    {
      "cell_type": "markdown",
      "metadata": {
        "id": "ZgOLLvXyJJlt"
      },
      "source": [
        "#### Exercise 10: Given a matrix\n",
        "\n",
        "\\begin{bmatrix}\n",
        "1 & 2 & 1\\\\ \n",
        "4 & 4 & 5\\\\ \n",
        "6 & 7 & 7 \\\\\n",
        "3 & 2 & 4\n",
        "\\end{bmatrix}\n",
        "\n",
        "Display first and second row elements"
      ]
    },
    {
      "cell_type": "code",
      "metadata": {
        "id": "BR01o7ZXJJlu"
      },
      "source": [
        "A[0:2,0:4]"
      ],
      "execution_count": null,
      "outputs": []
    },
    {
      "cell_type": "markdown",
      "metadata": {
        "id": "jnypz7DFJJlu"
      },
      "source": [
        "#### Exercise 11: Given a matrix\n",
        "\n",
        "\\begin{bmatrix}\n",
        "1 & 2 & 1\\\\ \n",
        "4 & 4 & 5\\\\ \n",
        "6 & 7 & 7 \\\\\n",
        "3 & 2 & 4\n",
        "\\end{bmatrix}\n",
        "\n",
        "Display first and third row elements"
      ]
    },
    {
      "cell_type": "code",
      "metadata": {
        "id": "I8mxBuVvJJlv"
      },
      "source": [
        "A[[0,2],:]"
      ],
      "execution_count": null,
      "outputs": []
    },
    {
      "cell_type": "markdown",
      "metadata": {
        "id": "8DHWEIELJJlv"
      },
      "source": [
        "#### Exercise 12: Given a matrix\n",
        "\n",
        "\\begin{bmatrix}\n",
        "1 & 2\\\\ \n",
        "3 & 4\\\\ \n",
        "\\end{bmatrix}\n",
        "\n",
        "Find the trace of it."
      ]
    },
    {
      "cell_type": "code",
      "metadata": {
        "id": "7ARo5mfHJJlw"
      },
      "source": [
        "X = np.array([[1, 2], [3,  4]])\n",
        "np.trace(X)"
      ],
      "execution_count": null,
      "outputs": []
    },
    {
      "cell_type": "markdown",
      "metadata": {
        "id": "AoSrvBnXJJlw"
      },
      "source": [
        "#### Exercise 13: Define square 3x3  matrix and find lower triangular matrix"
      ]
    },
    {
      "cell_type": "code",
      "metadata": {
        "id": "KEqOS6vzJJlx"
      },
      "source": [
        "A = np.array([\n",
        "    [1, 2, 3],\n",
        "    [2, 1, 2],\n",
        "    [3, 2, 1]\n",
        "])\n",
        "print(A)\n",
        "# lower triangular matrix\n",
        "lower = np.tril(A)\n",
        "print(lower)"
      ],
      "execution_count": null,
      "outputs": []
    },
    {
      "cell_type": "markdown",
      "metadata": {
        "id": "gtHw0S-4JJlx"
      },
      "source": [
        "#### Exercise 14: Define square 3x3 matrix and find upper triangular matrix"
      ]
    },
    {
      "cell_type": "code",
      "metadata": {
        "id": "MvIFG3vRJJly"
      },
      "source": [
        "A = np.array([\n",
        "    [1, 2, 3],\n",
        "    [2, 1, 2],\n",
        "    [3, 2, 1]\n",
        "])\n",
        "# upper triangular matrix\n",
        "upper = np.triu(A)\n",
        "print(upper)# YOUR CODE HERE"
      ],
      "execution_count": null,
      "outputs": []
    },
    {
      "cell_type": "markdown",
      "metadata": {
        "id": "n4PkIxV_JJlz"
      },
      "source": [
        "#### Exercise 15: Define 5x3  matrix and find diagonal vector of it."
      ]
    },
    {
      "cell_type": "code",
      "metadata": {
        "id": "f63X_R1NJJlz"
      },
      "source": [
        "A = np.array([\n",
        "    [1, 2, 3],\n",
        "    [2, 1, 2],\n",
        "    [3, 2, 1],\n",
        "    [1, 2, 3],\n",
        "    [2, 1, 2]\n",
        "])\n",
        "# get diagonal vector\n",
        "d = np.diag(A)\n",
        "print(d)"
      ],
      "execution_count": null,
      "outputs": []
    },
    {
      "cell_type": "markdown",
      "metadata": {
        "id": "5lpOvU93JJl0"
      },
      "source": [
        "#### Exercise 16: Given a matrix \n",
        "\n",
        "\\begin{bmatrix}\n",
        "1 & 2 & 5\\\\ \n",
        "3 & 4 & 3\\\\\n",
        "4 & 6 & 7 \n",
        "\\end{bmatrix}\n",
        "\n",
        "Find determine of it."
      ]
    },
    {
      "cell_type": "code",
      "metadata": {
        "id": "R2CxnFM7JJl0"
      },
      "source": [
        "C = np.array([[1, 2, 5], [3, 4, 3], [4, 6, 7]])\n",
        "from numpy.linalg import det\n",
        "det(C)"
      ],
      "execution_count": null,
      "outputs": []
    },
    {
      "cell_type": "markdown",
      "metadata": {
        "id": "-1478tNtM7Di"
      },
      "source": [
        "### Numerical Differentiation"
      ]
    },
    {
      "cell_type": "markdown",
      "metadata": {
        "id": "GSPBinUpNBQ6"
      },
      "source": [
        "**Derivative**\n",
        "\n",
        "The derivative of a function $f(x)$ at $x = a$ is the limit\n",
        "\n",
        "$f'(a) = \\lim_{h \\to 0} \\frac{f(a+h) - f(a)}{h}$\n",
        "\n",
        "**Difference Formulas**\n",
        "\n",
        "There are 3 main difference formulas for numerically approximating derivatives.\n",
        "\n",
        "The *forward difference* formula with step size $h$ is\n",
        "\n",
        "$f'(a) \\approx \\frac{f(a + h) - f(a)}{h}$\n",
        "\n",
        "The *backward difference* formula with step size $h$ is\n",
        "\n",
        "$f'(a) \\approx \\frac{f(a) - f(a - h)}{h}$\n",
        "\n",
        "The central difference formula with step size $h$ is the average of the forward and backwards difference formulas\n",
        "\n",
        "$f'(a) \\approx \\frac{1}{2} \\left( \\frac{f(a + h) - f(a)}{h} + \\frac{f(a) - f(a - h)}{h} \\right) = \\frac{f(a + h) - f(a - h)}{2h}$\n",
        "\n"
      ]
    },
    {
      "cell_type": "markdown",
      "metadata": {
        "id": "PPguvPR1PFEc"
      },
      "source": [
        "#### Implementation\n",
        "\n",
        "Let's write a function called derivative which takes input parameters f, a, method and h (with default values method='central' and h=0.01) and returns the corresponding difference formula for $f'(a)$ with step size $h$.\n",
        "\n",
        "\n",
        "    Parameters\n",
        "    ----------\n",
        "    f : function, Vectorized function of one variable\n",
        "    a : number, Compute derivative at x = a\n",
        "    method : string, Difference formula: 'forward', 'backward' or 'central'\n",
        "    h : number, Step size in difference formula\n",
        "\n"
      ]
    },
    {
      "cell_type": "code",
      "metadata": {
        "id": "7kXv-E0rPD3L"
      },
      "source": [
        "def derivative(f,a,method='central',h=0.01):\n",
        "    '''Compute the difference formula for f'(a) with step size h.'''\n",
        "    if method == 'central':\n",
        "        return (f(a + h) - f(a - h))/(2*h)\n",
        "    elif method == 'forward':\n",
        "        return (f(a + h) - f(a))/h\n",
        "    elif method == 'backward':\n",
        "        return (f(a) - f(a - h))/h\n",
        "    else:\n",
        "        raise ValueError(\"Method must be 'central', 'forward' or 'backward'.\")"
      ],
      "execution_count": null,
      "outputs": []
    },
    {
      "cell_type": "markdown",
      "metadata": {
        "id": "VTYDdgtrPxuS"
      },
      "source": [
        "#### Exercise 17: Compute and plot the derivative of a complicated function\n",
        "\n",
        "$y=\\left(\\frac{4x^2+2x+1}{x+2e^x}\\right)^x$\n",
        "\n",
        "**Hint:** Use the above defined derivative function\n"
      ]
    },
    {
      "cell_type": "code",
      "metadata": {
        "id": "mPMKDidUPlSL"
      },
      "source": [
        "x = np.linspace(0,6,100)\n",
        "f = lambda x: ((4*x**2 + 2*x + 1)/(x + 2*np.exp(x)))**x\n",
        "y = f(x)\n",
        "dydx = derivative(f,x)\n",
        "# derivative of f(x) for x with 100 equally stepped values between 0 and 6   \n",
        "dydx"
      ],
      "execution_count": null,
      "outputs": []
    },
    {
      "cell_type": "code",
      "metadata": {
        "id": "OFGx6BOKQs6g"
      },
      "source": [
        "# plotting the data\n",
        "plt.figure(figsize=(12,5))\n",
        "plt.plot(x,y,label='y=f(x)')\n",
        "plt.plot(x,dydx,label=\"Central Difference y=f'(x)\")\n",
        "plt.legend()\n",
        "plt.grid(True)\n",
        "plt.show()"
      ],
      "execution_count": null,
      "outputs": []
    },
    {
      "cell_type": "markdown",
      "metadata": {
        "id": "D6aN0K02RjAi"
      },
      "source": [
        "**Note:** The SciPy function `scipy.misc.derivative` computes derivatives using the central difference formula.\n",
        "\n"
      ]
    },
    {
      "cell_type": "markdown",
      "metadata": {
        "id": "bGjBENs7SGPI"
      },
      "source": [
        "#### Exercise 18: Find the central derivative of $exp(x)$ for x in range [0,5] with step size as 0.1.\n",
        "\n",
        "Hint: Use `scipy.misc.derivative`"
      ]
    },
    {
      "cell_type": "code",
      "metadata": {
        "id": "8PlFRhuqRkuw"
      },
      "source": [
        "from scipy.misc import derivative"
      ],
      "execution_count": null,
      "outputs": []
    },
    {
      "cell_type": "code",
      "metadata": {
        "id": "p9XC4aCxSpfA"
      },
      "source": [
        "x = np.arange(0,5)\n",
        "derivative(np.exp,x,dx=0.1)"
      ],
      "execution_count": null,
      "outputs": []
    },
    {
      "cell_type": "markdown",
      "metadata": {
        "id": "qHhYgZl3JJl1"
      },
      "source": [
        "#### Exercise 19: Consider a function $ f(x, y) = 2xy + xy^{2}$. Find the partial derivative of f(x, y) with respect to x.\n",
        "\n",
        "Here is a documentation of [SymPy](https://docs.sympy.org/latest/index.html)."
      ]
    },
    {
      "cell_type": "code",
      "metadata": {
        "id": "LwpxTV1MJJl1"
      },
      "source": [
        "import sympy as sym                                \n",
        "x = sym.Symbol('x')\n",
        "y = sym.Symbol('y')\n",
        "# defining the function f(x,y)\n",
        "Fxy = 2*x*y + x*y**2\n",
        "sym.Derivative(Fxy, x).doit()"
      ],
      "execution_count": null,
      "outputs": []
    },
    {
      "cell_type": "markdown",
      "metadata": {
        "id": "eGmn8PUtxZaa"
      },
      "source": [
        "#### Excercise 20: Differentiate the below given scalar function $f(x)$ w.r.t. to a scalar $x$.\n",
        "\n",
        "  $ f(x) = \\cos x + \\sin x + x^2 $"
      ]
    },
    {
      "cell_type": "code",
      "metadata": {
        "id": "vkPgI5doxZab"
      },
      "source": [
        "# Defining a function 'f'\n",
        "f = sym.Function('f')\n",
        "f = sym.cos(x) + sym.sin(x) + x*x\n",
        "# Derivative of the scalar function w.r.t. a scalar x using the 'diff' function of Sympy\n",
        "ss_result = sym.diff(f,x)\n",
        "ss_result"
      ],
      "execution_count": null,
      "outputs": []
    },
    {
      "cell_type": "markdown",
      "metadata": {
        "id": "LQ0KvCHTxZad"
      },
      "source": [
        "#### Excercise 21: Find the derivative of the function $F(x)$ w.r.t. to a scalar $x$.\n",
        "\n",
        "$F(x) = (x^2 + 1) * \\cos (x)$"
      ]
    },
    {
      "cell_type": "code",
      "metadata": {
        "id": "Ye2GE1f8xZae"
      },
      "source": [
        "# calculating the derivating of F(x) w.r.t. x using SymPy \n",
        "sym.diff((x**2 + 1) * sym.cos(x))"
      ],
      "execution_count": null,
      "outputs": []
    },
    {
      "cell_type": "markdown",
      "metadata": {
        "id": "ybO6chcDxZaf"
      },
      "source": [
        "#### Excercise 22: Find the partial derivative of the multivariate function $f(x)$\n",
        "\n",
        "$f(x) = x^2 y z^5$"
      ]
    },
    {
      "cell_type": "code",
      "metadata": {
        "id": "KahVmnq5xZah"
      },
      "source": [
        "# declaring the variables used in f(x)\n",
        "x = sym.Symbol('x')\n",
        "y = sym.Symbol('y')\n",
        "z = sym.Symbol('z')\n",
        "# define the function\n",
        "f = x**2 * y * z**5\n",
        "\n",
        "# partial derivative w.r.t. 'x'\n",
        "sym.diff(f, x)"
      ],
      "execution_count": null,
      "outputs": []
    },
    {
      "cell_type": "code",
      "metadata": {
        "id": "gUJqyGdFxZai"
      },
      "source": [
        "# partial derivative w.r.t. 'y'\n",
        "sym.diff(f, y)"
      ],
      "execution_count": null,
      "outputs": []
    },
    {
      "cell_type": "code",
      "metadata": {
        "id": "mZ6uXYBFxZaj"
      },
      "source": [
        "# partial derivative w.r.t. 'z'\n",
        "sym.diff(f, z)"
      ],
      "execution_count": null,
      "outputs": []
    },
    {
      "cell_type": "markdown",
      "metadata": {
        "id": "p-PpFu_mJJl1"
      },
      "source": [
        "#### Exercise 23: Given a Matrix \n",
        "\n",
        "\\begin{bmatrix}\n",
        "4 & 5 & 6 & \\\\ \n",
        "55 & 22 & 1  & \\\\ \n",
        " 6 & 21 & 44 &  \n",
        "\\end{bmatrix}\n",
        "\n",
        "Find the eigen values and eigen vector"
      ]
    },
    {
      "cell_type": "code",
      "metadata": {
        "id": "WJjW9KRSJJl2"
      },
      "source": [
        "# from numpy library importing linear algebra for performing operations in matrix\n",
        "from numpy import linalg as LA                                      \n",
        "A = np.array([[4, 5, 6], [55, 22, 1], [6, 21, 44]])\n",
        "w, v = LA.eig(A)"
      ],
      "execution_count": null,
      "outputs": []
    },
    {
      "cell_type": "markdown",
      "metadata": {
        "id": "3Y55vKkRJJl2"
      },
      "source": [
        "#### Exercise 24: Consider a function $ f(x) = e^{3x}$. Find the second derivative of f(x) with respect to  x.\n",
        "\n",
        "Hint: use chain rule"
      ]
    },
    {
      "cell_type": "code",
      "metadata": {
        "id": "Gd-MtCcGJJl3"
      },
      "source": [
        "# calculating derivative of f(x) using chain rule\n",
        "sym.diff(sym.exp(3*x)), sym.diff(x**3,x,x)"
      ],
      "execution_count": null,
      "outputs": []
    },
    {
      "cell_type": "markdown",
      "metadata": {
        "id": "VWViJMKvJJl3"
      },
      "source": [
        "#### Exercise 25: Consider a function $ f(x) = (x ^ {2} - 3x + 5) ^ {3} $ . Find the partial derivative of f(x) with respect of x"
      ]
    },
    {
      "cell_type": "code",
      "metadata": {
        "id": "myNVOZR_JJl4"
      },
      "source": [
        "# Differentiating f(x) w.r.t. x\n",
        "sym.diff((x ** 2 - 3 * x  + 5) ** 3)"
      ],
      "execution_count": null,
      "outputs": []
    },
    {
      "cell_type": "markdown",
      "metadata": {
        "id": "2c7VgwNZJJl5"
      },
      "source": [
        "#### Excercise 26: Find the derivative of a matrix $A$ = $\\begin{pmatrix}\n",
        "   x_{1}^2+x_{2}^2+x_{2} & x_{2}^2+x_{4}^2\\\\\n",
        "    sinx_{2}+x_{3}^2 & x_{1}+x_{3}+x_{4}\\\\\n",
        "   \\end{pmatrix}$  w.r.t. a matrix $M = \\begin{pmatrix}\n",
        "   x_{1} & x_{2}\\\\\n",
        "    x_{3} & x_{4}\\\\\n",
        "   \\end{pmatrix}$."
      ]
    },
    {
      "cell_type": "code",
      "metadata": {
        "id": "hCZiOstvxZau"
      },
      "source": [
        "# Defining Symbols\n",
        "x1 = sym.symbols('x1')\n",
        "x2 = sym.symbols('x2')\n",
        "x3 = sym.symbols('x3')\n",
        "x4 = sym.symbols('x4')\n",
        "# Defining matrix A\n",
        "A =  sym.Matrix([[x1*x1+x2*x2+x2,x2*x2+x4*x4],[sym.sin(x2)+x3*x3,x1+x3+x4]])\n",
        "# Defining matrix M\n",
        "M = sym.Matrix([[x1,x2],[x3,x4]])\n",
        "# Differentiating matrix A w.r.t. each element of matrix M\n",
        "dx1 = A.diff(x1)\n",
        "dx2 = A.diff(x2)\n",
        "dx3 = A.diff(x3)\n",
        "dx4 = A.diff(x4)\n",
        "# Organizing the result of partial derivatives into a single matrix\n",
        "mm_result = sym.Matrix([[dx1,dx2],[dx3,dx4]])\n",
        "mm_result"
      ],
      "execution_count": null,
      "outputs": []
    },
    {
      "cell_type": "markdown",
      "metadata": {
        "id": "7QeNci4_xZav"
      },
      "source": [
        "#### Excercise 27: Consider the following function in $R^2$:\n",
        "\n",
        "$f(x_1,x_2) = −x_1 x_2 e^{−(x^2_1+ x^2_2)^2}$\n",
        "\n",
        "1. Use sympy to compute its gradient.\n",
        "\n",
        "2. Compute Jacobian matrix\n",
        "\n",
        "3. Compute the Hessian matrix.\n",
        "\n",
        "**Ans 2 Hint: Jacobian Matrix** \n",
        "\n",
        "![Image](https://i.stack.imgur.com/6RBkW.png) \n",
        "\n",
        "**Ans 3 Hint: Hessian Matrix** \n",
        "\n",
        "![Image](https://miro.medium.com/max/401/0*g1BLSkCBhQ3H0Enj.png)"
      ]
    },
    {
      "cell_type": "code",
      "metadata": {
        "id": "zoQB4t8nxZax"
      },
      "source": [
        "sym.init_printing()\n",
        "\n",
        "# defining symbols x1, x2, f, g, h\n",
        "x1 = sym.symbols('x1')\n",
        "x1 = sym.symbols('x2')\n",
        "f, g, h = sym.symbols('f g h', cls=sym.Function)\n",
        "\n",
        "# defining matrices\n",
        "X = sym.Matrix([x1,x2])\n",
        "f = sym.Matrix([-x1*x2*sym.exp(-(x1**2 + x2**2)/2)])\n",
        "F = -x1*x2*sym.exp(-(x1**2 + x2**2)/2)"
      ],
      "execution_count": null,
      "outputs": []
    },
    {
      "cell_type": "code",
      "metadata": {
        "id": "SxqmyJiWxZay"
      },
      "source": [
        "# 1. a. Gradient w.r.t. x1\n",
        "sym.diff(F, x1)"
      ],
      "execution_count": null,
      "outputs": []
    },
    {
      "cell_type": "code",
      "metadata": {
        "id": "HxCtrSyXxZa0"
      },
      "source": [
        "# 1. b. Gradient w.r.t x2\n",
        "sym.diff(F, x2)"
      ],
      "execution_count": null,
      "outputs": []
    },
    {
      "cell_type": "code",
      "metadata": {
        "id": "ebEGKz1uxZa1"
      },
      "source": [
        "# 2. Computing jacobian matrix using sympy\n",
        "grad_f = sym.simplify(f.jacobian(X))\n",
        "grad_f"
      ],
      "execution_count": null,
      "outputs": []
    },
    {
      "cell_type": "code",
      "metadata": {
        "id": "evOdDC7LxZa2"
      },
      "source": [
        "# 3. Computing Hessian matrix using sympy\n",
        "hessian_f = sym.simplify(sym.hessian(f, X))\n",
        "hessian_f"
      ],
      "execution_count": null,
      "outputs": []
    },
    {
      "cell_type": "code",
      "metadata": {
        "id": "HI1ljLOFSbF8"
      },
      "source": [
        ""
      ],
      "execution_count": null,
      "outputs": []
    }
  ]
}